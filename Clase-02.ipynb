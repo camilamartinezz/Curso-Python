{
 "cells": [
  {
   "cell_type": "markdown",
   "metadata": {},
   "source": [
    "# Clase 2"
   ]
  },
  {
   "cell_type": "code",
   "execution_count": 3,
   "metadata": {},
   "outputs": [
    {
     "name": "stdout",
     "output_type": "stream",
     "text": [
      "El número mayor es el 8\n"
     ]
    }
   ],
   "source": [
    "Num1 = int(input(\"Ingresa un número: \"))\n",
    "Num2 = int(input(\"Ingresa un número: \"))\n",
    "\n",
    "if Num1 > Num2:\n",
    "\n",
    "    print(f'El número mayor es {Num1}')\n",
    "\n",
    "else:\n",
    "\n",
    "    print(f'El número mayor es el {Num2}')"
   ]
  },
  {
   "cell_type": "code",
   "execution_count": 6,
   "metadata": {},
   "outputs": [
    {
     "name": "stdout",
     "output_type": "stream",
     "text": [
      "El número mayor es el 8\n"
     ]
    }
   ],
   "source": [
    "Num1 = int(input(\"Ingresa un número: \"))\n",
    "Num2 = int(input(\"Ingresa un número: \"))\n",
    "\n",
    "if Num1 > Num2:\n",
    "\n",
    "    print(f'El número mayor es {Num1}')\n",
    "\n",
    "elif Num2 > Num1:\n",
    "\n",
    "    print(f'El número mayor es el {Num2}')\n",
    "\n",
    "else: \n",
    "\n",
    "    print(\"Ambos números son iguales\")"
   ]
  },
  {
   "cell_type": "markdown",
   "metadata": {},
   "source": [
    "## Listas"
   ]
  },
  {
   "cell_type": "code",
   "execution_count": 7,
   "metadata": {},
   "outputs": [
    {
     "name": "stdout",
     "output_type": "stream",
     "text": [
      "['lichee', 'Uva', 'Manzana']\n"
     ]
    }
   ],
   "source": [
    "mis_frutas = [\"lichee\", \"Uva\", \"Manzana\"]\n",
    "\n",
    "print(mis_frutas)"
   ]
  },
  {
   "cell_type": "code",
   "execution_count": 9,
   "metadata": {},
   "outputs": [
    {
     "data": {
      "text/plain": [
       "'e y'"
      ]
     },
     "execution_count": 9,
     "metadata": {},
     "output_type": "execute_result"
    }
   ],
   "source": [
    "palabra = \"Coraline y la puerta Secreta\"\n",
    "palabra [0:6]\n",
    "\n",
    "palabra [7:10]"
   ]
  },
  {
   "cell_type": "code",
   "execution_count": 10,
   "metadata": {},
   "outputs": [
    {
     "data": {
      "text/plain": [
       "'Uva'"
      ]
     },
     "execution_count": 10,
     "metadata": {},
     "output_type": "execute_result"
    }
   ],
   "source": [
    "mis_frutas[-2]"
   ]
  },
  {
   "cell_type": "code",
   "execution_count": 16,
   "metadata": {},
   "outputs": [
    {
     "name": "stdout",
     "output_type": "stream",
     "text": [
      "[2, 3, 5, 8, 9, 14, 15, 17, 17, 19]\n",
      "[19, 17, 17, 15, 14, 9, 8, 5, 3, 2]\n"
     ]
    }
   ],
   "source": [
    "mis_numeros = [5, 9, 17, 19, 17, 3, 15, 8, 2, 14]\n",
    "mis_numeros.sort()\n",
    "\n",
    "print(mis_numeros)\n",
    "\n",
    "mis_numeros.sort(reverse=True)\n",
    "\n",
    "print(mis_numeros)\n"
   ]
  },
  {
   "cell_type": "code",
   "execution_count": 17,
   "metadata": {},
   "outputs": [
    {
     "data": {
      "text/plain": [
       "2"
      ]
     },
     "execution_count": 17,
     "metadata": {},
     "output_type": "execute_result"
    }
   ],
   "source": [
    "mis_numeros.count(17)"
   ]
  },
  {
   "cell_type": "markdown",
   "metadata": {},
   "source": [
    "##Funciones de Lista"
   ]
  },
  {
   "cell_type": "markdown",
   "metadata": {},
   "source": [
    "##Sum, suma todos los números de la lista"
   ]
  },
  {
   "cell_type": "code",
   "execution_count": 18,
   "metadata": {},
   "outputs": [
    {
     "data": {
      "text/plain": [
       "109"
      ]
     },
     "execution_count": 18,
     "metadata": {},
     "output_type": "execute_result"
    }
   ],
   "source": [
    "sum(mis_numeros)"
   ]
  },
  {
   "cell_type": "markdown",
   "metadata": {},
   "source": [
    "##Len cuenta la cantidad de datos que hay en la lista"
   ]
  },
  {
   "cell_type": "code",
   "execution_count": 23,
   "metadata": {},
   "outputs": [
    {
     "name": "stdout",
     "output_type": "stream",
     "text": [
      "10.9\n"
     ]
    }
   ],
   "source": [
    "promedio = sum(mis_numeros)/len(mis_numeros)\n",
    "\n",
    "print(promedio)"
   ]
  },
  {
   "cell_type": "markdown",
   "metadata": {},
   "source": [
    "\n",
    " \n"
   ]
  }
 ],
 "metadata": {
  "kernelspec": {
   "display_name": "Python 3.11.0 64-bit",
   "language": "python",
   "name": "python3"
  },
  "language_info": {
   "codemirror_mode": {
    "name": "ipython",
    "version": 3
   },
   "file_extension": ".py",
   "mimetype": "text/x-python",
   "name": "python",
   "nbconvert_exporter": "python",
   "pygments_lexer": "ipython3",
   "version": "3.11.0"
  },
  "orig_nbformat": 4,
  "vscode": {
   "interpreter": {
    "hash": "ebfc0a8d552866b0d59eba665220a57de3bc06f3ac643b8bef38dd8f66781fdd"
   }
  }
 },
 "nbformat": 4,
 "nbformat_minor": 2
}
